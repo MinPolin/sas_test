{
 "cells": [
  {
   "cell_type": "code",
   "execution_count": 1683,
   "id": "skilled-springer",
   "metadata": {},
   "outputs": [
    {
     "data": {
      "text/html": [
       "<div>\n",
       "<style scoped>\n",
       "    .dataframe tbody tr th:only-of-type {\n",
       "        vertical-align: middle;\n",
       "    }\n",
       "\n",
       "    .dataframe tbody tr th {\n",
       "        vertical-align: top;\n",
       "    }\n",
       "\n",
       "    .dataframe thead th {\n",
       "        text-align: right;\n",
       "    }\n",
       "</style>\n",
       "<table border=\"1\" class=\"dataframe\">\n",
       "  <thead>\n",
       "    <tr style=\"text-align: right;\">\n",
       "      <th></th>\n",
       "      <th>Target</th>\n",
       "      <th>Time</th>\n",
       "      <th>Call_centre_lvl</th>\n",
       "      <th>Age</th>\n",
       "      <th>First_contract</th>\n",
       "      <th>Gender</th>\n",
       "      <th>Problem</th>\n",
       "      <th>Region</th>\n",
       "      <th>Emotionality</th>\n",
       "    </tr>\n",
       "  </thead>\n",
       "  <tbody>\n",
       "    <tr>\n",
       "      <th>0</th>\n",
       "      <td>0</td>\n",
       "      <td>2020-02-20 17:19:45.312983</td>\n",
       "      <td>0.396821</td>\n",
       "      <td>0.769557</td>\n",
       "      <td>Более 5 лет</td>\n",
       "      <td>Ж</td>\n",
       "      <td>2</td>\n",
       "      <td>7</td>\n",
       "      <td>0.225755</td>\n",
       "    </tr>\n",
       "    <tr>\n",
       "      <th>1</th>\n",
       "      <td>0</td>\n",
       "      <td>2020-02-18 19:53:29.366494</td>\n",
       "      <td>0.396821</td>\n",
       "      <td>0.754719</td>\n",
       "      <td>Более 5 лет</td>\n",
       "      <td>Ж</td>\n",
       "      <td>2</td>\n",
       "      <td>9</td>\n",
       "      <td>0.214754</td>\n",
       "    </tr>\n",
       "    <tr>\n",
       "      <th>2</th>\n",
       "      <td>0</td>\n",
       "      <td>2020-02-21 20:58:30.872922</td>\n",
       "      <td>0.396821</td>\n",
       "      <td>0.757050</td>\n",
       "      <td>Более 5 лет</td>\n",
       "      <td>Ж</td>\n",
       "      <td>2</td>\n",
       "      <td>9</td>\n",
       "      <td>0.212734</td>\n",
       "    </tr>\n",
       "    <tr>\n",
       "      <th>3</th>\n",
       "      <td>0</td>\n",
       "      <td>2020-02-16 21:43:51.866005</td>\n",
       "      <td>0.396821</td>\n",
       "      <td>0.752471</td>\n",
       "      <td>Более 5 лет</td>\n",
       "      <td>Ж</td>\n",
       "      <td>2</td>\n",
       "      <td>9</td>\n",
       "      <td>0.205210</td>\n",
       "    </tr>\n",
       "    <tr>\n",
       "      <th>4</th>\n",
       "      <td>0</td>\n",
       "      <td>2020-02-13 20:15:36.013792</td>\n",
       "      <td>0.396821</td>\n",
       "      <td>0.760621</td>\n",
       "      <td>Более 5 лет</td>\n",
       "      <td>Ж</td>\n",
       "      <td>2</td>\n",
       "      <td>9</td>\n",
       "      <td>0.207274</td>\n",
       "    </tr>\n",
       "  </tbody>\n",
       "</table>\n",
       "</div>"
      ],
      "text/plain": [
       "   Target                       Time  Call_centre_lvl       Age  \\\n",
       "0       0 2020-02-20 17:19:45.312983         0.396821  0.769557   \n",
       "1       0 2020-02-18 19:53:29.366494         0.396821  0.754719   \n",
       "2       0 2020-02-21 20:58:30.872922         0.396821  0.757050   \n",
       "3       0 2020-02-16 21:43:51.866005         0.396821  0.752471   \n",
       "4       0 2020-02-13 20:15:36.013792         0.396821  0.760621   \n",
       "\n",
       "  First_contract Gender  Problem  Region  Emotionality  \n",
       "0    Более 5 лет      Ж        2       7      0.225755  \n",
       "1    Более 5 лет      Ж        2       9      0.214754  \n",
       "2    Более 5 лет      Ж        2       9      0.212734  \n",
       "3    Более 5 лет      Ж        2       9      0.205210  \n",
       "4    Более 5 лет      Ж        2       9      0.207274  "
      ]
     },
     "execution_count": 1683,
     "metadata": {},
     "output_type": "execute_result"
    }
   ],
   "source": [
    "import pandas as pd \n",
    "import numpy as np \n",
    "from sklearn.ensemble import RandomForestClassifier\n",
    "from sklearn.model_selection import train_test_split\n",
    "from sklearn.metrics import r2_score, confusion_matrix, accuracy_score\n",
    "\n",
    "import matplotlib.pyplot as plt\n",
    "import seaborn as sns\n",
    "import datetime\n",
    "\n",
    "df = pd.read_excel(\"Data_for_NN.xlsx\",header=2) \n",
    "\n",
    "df.head() "
   ]
  },
  {
   "cell_type": "code",
   "execution_count": 1622,
   "id": "mighty-victory",
   "metadata": {},
   "outputs": [
    {
     "name": "stdout",
     "output_type": "stream",
     "text": [
      "<class 'pandas.core.frame.DataFrame'>\n",
      "RangeIndex: 6839 entries, 0 to 6838\n",
      "Data columns (total 9 columns):\n",
      " #   Column           Non-Null Count  Dtype         \n",
      "---  ------           --------------  -----         \n",
      " 0   Target           6839 non-null   int64         \n",
      " 1   Time             6839 non-null   datetime64[ns]\n",
      " 2   Call_centre_lvl  6839 non-null   float64       \n",
      " 3   Age              6839 non-null   float64       \n",
      " 4   First_contract   6839 non-null   object        \n",
      " 5   Gender           6839 non-null   object        \n",
      " 6   Problem          6839 non-null   int64         \n",
      " 7   Region           6839 non-null   int64         \n",
      " 8   Emotionality     6839 non-null   float64       \n",
      "dtypes: datetime64[ns](1), float64(3), int64(3), object(2)\n",
      "memory usage: 481.0+ KB\n"
     ]
    }
   ],
   "source": [
    "df.info()"
   ]
  },
  {
   "cell_type": "code",
   "execution_count": 1623,
   "id": "younger-undergraduate",
   "metadata": {},
   "outputs": [
    {
     "data": {
      "text/plain": [
       "Target                2\n",
       "Time               6839\n",
       "Call_centre_lvl      43\n",
       "Age                6758\n",
       "First_contract        3\n",
       "Gender                2\n",
       "Problem              11\n",
       "Region               52\n",
       "Emotionality       4817\n",
       "dtype: int64"
      ]
     },
     "execution_count": 1623,
     "metadata": {},
     "output_type": "execute_result"
    }
   ],
   "source": [
    "df.nunique()"
   ]
  },
  {
   "cell_type": "code",
   "execution_count": 1624,
   "id": "mineral-productivity",
   "metadata": {
    "scrolled": true
   },
   "outputs": [
    {
     "name": "stdout",
     "output_type": "stream",
     "text": [
      "Target\n",
      "1    3506\n",
      "0    3333\n",
      "Name: Target, dtype: int64\n",
      "Time\n",
      "2020-03-04 19:17:37.540651    1\n",
      "2021-01-10 22:14:57.877841    1\n",
      "2020-02-29 01:28:44.467599    1\n",
      "2021-01-19 13:02:31.519830    1\n",
      "2020-02-20 05:46:55.832148    1\n",
      "                             ..\n",
      "2020-04-18 20:15:36.911869    1\n",
      "2020-09-30 03:44:49.426083    1\n",
      "2021-01-13 03:44:42.109748    1\n",
      "2020-03-04 19:16:40.621843    1\n",
      "2021-01-22 12:35:45.813707    1\n",
      "Name: Time, Length: 6839, dtype: int64\n",
      "Call_centre_lvl\n",
      "0.468328    1323\n",
      "0.637132    1141\n",
      "0.551554     387\n",
      "0.360371     383\n",
      "0.000000     379\n",
      "0.882630     280\n",
      "0.393699     194\n",
      "0.618018     163\n",
      "0.798588     158\n",
      "0.118763     158\n",
      "0.366278     157\n",
      "0.693512     155\n",
      "0.601883     153\n",
      "0.237814     150\n",
      "0.448158     133\n",
      "0.590645     120\n",
      "0.730010     112\n",
      "0.644720     112\n",
      "0.493541      96\n",
      "0.396821      96\n",
      "0.522451      95\n",
      "0.694184      85\n",
      "0.437545      84\n",
      "1.000000      69\n",
      "0.548624      59\n",
      "0.306056      49\n",
      "0.323344      49\n",
      "0.201556      48\n",
      "0.337079      48\n",
      "0.572732      46\n",
      "0.621812      43\n",
      "0.799933      43\n",
      "0.515103      34\n",
      "0.277338      33\n",
      "0.848965      33\n",
      "0.531528      32\n",
      "0.542525      24\n",
      "0.381261      24\n",
      "0.385871      24\n",
      "0.547568      23\n",
      "0.129616      18\n",
      "0.784565      15\n",
      "0.752293      11\n",
      "Name: Call_centre_lvl, dtype: int64\n",
      "Age\n",
      "0.503233    31\n",
      "0.403210     7\n",
      "0.396589     3\n",
      "0.649476     3\n",
      "0.692900     2\n",
      "            ..\n",
      "0.654539     1\n",
      "0.706487     1\n",
      "0.580293     1\n",
      "0.508797     1\n",
      "0.559681     1\n",
      "Name: Age, Length: 6758, dtype: int64\n",
      "First_contract\n",
      "Более 5 лет     4647\n",
      "Новый           2161\n",
      "Более 10 лет      31\n",
      "Name: First_contract, dtype: int64\n",
      "Gender\n",
      "Ж    4938\n",
      "М    1901\n",
      "Name: Gender, dtype: int64\n",
      "Problem\n",
      "2     4448\n",
      "3      980\n",
      "5      848\n",
      "6      228\n",
      "4      149\n",
      "0       54\n",
      "7       47\n",
      "8       41\n",
      "9       29\n",
      "1       10\n",
      "10       5\n",
      "Name: Problem, dtype: int64\n",
      "Region\n",
      "14     1056\n",
      "15     1027\n",
      "13      901\n",
      "16      788\n",
      "12      619\n",
      "17      583\n",
      "11      363\n",
      "18      348\n",
      "10      248\n",
      "9       199\n",
      "19      140\n",
      "8       102\n",
      "20       84\n",
      "7        69\n",
      "21       58\n",
      "22       37\n",
      "6        24\n",
      "28       15\n",
      "5        15\n",
      "25       14\n",
      "34       12\n",
      "38       11\n",
      "27       10\n",
      "33       10\n",
      "26       10\n",
      "23        9\n",
      "31        9\n",
      "24        9\n",
      "37        9\n",
      "32        8\n",
      "30        8\n",
      "35        7\n",
      "39        7\n",
      "4         4\n",
      "36        3\n",
      "29        3\n",
      "42        2\n",
      "40        2\n",
      "41        2\n",
      "65        2\n",
      "47        1\n",
      "43        1\n",
      "0         1\n",
      "3         1\n",
      "90        1\n",
      "69        1\n",
      "1         1\n",
      "100       1\n",
      "88        1\n",
      "80        1\n",
      "52        1\n",
      "59        1\n",
      "Name: Region, dtype: int64\n",
      "Emotionality\n",
      "0.000000    2023\n",
      "0.469423       1\n",
      "0.348676       1\n",
      "0.325707       1\n",
      "0.364588       1\n",
      "            ... \n",
      "0.278842       1\n",
      "0.389656       1\n",
      "0.417748       1\n",
      "0.349993       1\n",
      "0.432504       1\n",
      "Name: Emotionality, Length: 4817, dtype: int64\n"
     ]
    }
   ],
   "source": [
    "feature_names = df.columns.tolist() \n",
    "for column in feature_names: \n",
    "    print (column )\n",
    "    print (df[column].value_counts(dropna=False) )"
   ]
  },
  {
   "cell_type": "code",
   "execution_count": 1625,
   "id": "administrative-credit",
   "metadata": {},
   "outputs": [
    {
     "name": "stdout",
     "output_type": "stream",
     "text": [
      "0.7916666666666666\n"
     ]
    }
   ],
   "source": [
    "def hour(data):\n",
    "    '''Извлекает час из datetime'''\n",
    "    \n",
    "    return(data.timetuple()[3])\n",
    "\n",
    "def day_part(data):\n",
    "    '''0 - Утро, 1 - День, 2 - Вечер, 3 - Ночь'''\n",
    "    k=0\n",
    "    h=data.timetuple()[3]\n",
    "    if h>=3 and h <=8:\n",
    "        k=0\n",
    "    elif h>8 and h <=16:\n",
    "        k=1\n",
    "    elif h> 16 and h <=23:\n",
    "        k=2\n",
    "    else:\n",
    "        k=3\n",
    "    return k\n",
    "\n",
    "# распределение количества положительных и отрицательных исходов в зависимости от часа \n",
    "\n",
    "filter = df['Target']==1\n",
    "ts1['time'] =pd.DataFrame( df.where(filter).dropna()['Time'].apply(hour))\n",
    "\n",
    "filter = df['Target']==0\n",
    "ts0['time'] =pd.DataFrame( df.where(filter).dropna()['Time'].apply(hour))\n",
    "\n",
    "count1 = ts1['time'].value_counts().sort_index()\n",
    "count0 = ts0['time'].value_counts().sort_index()\n",
    "\n",
    "freq = pd.DataFrame({'hours':count1.index, 'amount1':count1.values, 'amount0':count0.values, 'p':count1.values/(count1.values+count0.values) })\n",
    "p=freq['p']\n",
    "\n",
    "\n",
    "def hour_class(data):\n",
    "    '''Возвращает 0 если отрицательных исходов больше чем положительных, 1 в противном случае и 2 если поровну'''\n",
    "    global p\n",
    "    k=0\n",
    "    h=data.timetuple()[3]\n",
    "    if p[h]>0.5:\n",
    "        k=1\n",
    "    elif p[h]<0.5:\n",
    "        k=0\n",
    "    else:\n",
    "        k=2\n",
    "    return k\n",
    "\n",
    "freq = freq.sort_values('p')\n",
    "freq['rang']=1-np.array(range(1,25))/24\n",
    "def p_class(data):\n",
    "    '''Возвращает ранг нормированный по максимуму'''\n",
    "    global freq\n",
    "    \n",
    "    h=data.timetuple()[3]\n",
    "\n",
    "    return freq['rang'][h]\n",
    "print(freq['rang'][17])"
   ]
  },
  {
   "cell_type": "code",
   "execution_count": 1626,
   "id": "small-satin",
   "metadata": {},
   "outputs": [
    {
     "data": {
      "image/png": "[encoded data removed]",
      "text/plain": [
       "<Figure size 576x576 with 1 Axes>"
      ]
     },
     "metadata": {},
     "output_type": "display_data"
    }
   ],
   "source": [
    "plt.figure(figsize=(8, 8))\n",
    "plt.bar(freq['hours'],freq['p']);\n",
    "plt.plot(range(-1,25),[0.5]*26,color = 'r')\n",
    "plt.axis([-0.75,23.75,0.45,0.57]);\n",
    "plt.xticks(range(0,25,2));"
   ]
  },
  {
   "cell_type": "code",
   "execution_count": 1627,
   "id": "popular-belfast",
   "metadata": {},
   "outputs": [
    {
     "data": {
      "text/html": [
       "<div>\n",
       "<style scoped>\n",
       "    .dataframe tbody tr th:only-of-type {\n",
       "        vertical-align: middle;\n",
       "    }\n",
       "\n",
       "    .dataframe tbody tr th {\n",
       "        vertical-align: top;\n",
       "    }\n",
       "\n",
       "    .dataframe thead th {\n",
       "        text-align: right;\n",
       "    }\n",
       "</style>\n",
       "<table border=\"1\" class=\"dataframe\">\n",
       "  <thead>\n",
       "    <tr style=\"text-align: right;\">\n",
       "      <th></th>\n",
       "      <th>week_day</th>\n",
       "      <th>amount1</th>\n",
       "      <th>amount0</th>\n",
       "      <th>p</th>\n",
       "      <th>rang</th>\n",
       "    </tr>\n",
       "  </thead>\n",
       "  <tbody>\n",
       "    <tr>\n",
       "      <th>3</th>\n",
       "      <td>3</td>\n",
       "      <td>460</td>\n",
       "      <td>497</td>\n",
       "      <td>0.480669</td>\n",
       "      <td>0.142857</td>\n",
       "    </tr>\n",
       "    <tr>\n",
       "      <th>4</th>\n",
       "      <td>4</td>\n",
       "      <td>479</td>\n",
       "      <td>490</td>\n",
       "      <td>0.494324</td>\n",
       "      <td>0.285714</td>\n",
       "    </tr>\n",
       "    <tr>\n",
       "      <th>5</th>\n",
       "      <td>5</td>\n",
       "      <td>528</td>\n",
       "      <td>508</td>\n",
       "      <td>0.509653</td>\n",
       "      <td>0.428571</td>\n",
       "    </tr>\n",
       "    <tr>\n",
       "      <th>1</th>\n",
       "      <td>1</td>\n",
       "      <td>533</td>\n",
       "      <td>499</td>\n",
       "      <td>0.516473</td>\n",
       "      <td>0.571429</td>\n",
       "    </tr>\n",
       "    <tr>\n",
       "      <th>2</th>\n",
       "      <td>2</td>\n",
       "      <td>479</td>\n",
       "      <td>447</td>\n",
       "      <td>0.517279</td>\n",
       "      <td>0.714286</td>\n",
       "    </tr>\n",
       "    <tr>\n",
       "      <th>6</th>\n",
       "      <td>6</td>\n",
       "      <td>528</td>\n",
       "      <td>479</td>\n",
       "      <td>0.524330</td>\n",
       "      <td>0.857143</td>\n",
       "    </tr>\n",
       "    <tr>\n",
       "      <th>0</th>\n",
       "      <td>0</td>\n",
       "      <td>499</td>\n",
       "      <td>413</td>\n",
       "      <td>0.547149</td>\n",
       "      <td>1.000000</td>\n",
       "    </tr>\n",
       "  </tbody>\n",
       "</table>\n",
       "</div>"
      ],
      "text/plain": [
       "   week_day  amount1  amount0         p      rang\n",
       "3         3      460      497  0.480669  0.142857\n",
       "4         4      479      490  0.494324  0.285714\n",
       "5         5      528      508  0.509653  0.428571\n",
       "1         1      533      499  0.516473  0.571429\n",
       "2         2      479      447  0.517279  0.714286\n",
       "6         6      528      479  0.524330  0.857143\n",
       "0         0      499      413  0.547149  1.000000"
      ]
     },
     "execution_count": 1627,
     "metadata": {},
     "output_type": "execute_result"
    }
   ],
   "source": [
    "def year_month(data):\n",
    "    '''Извлекает год и месяц из datetime'''\n",
    "    tt = data.timetuple()\n",
    "    d = datetime.date(tt[0], tt[1], 1)\n",
    "    return d\n",
    "\n",
    "def weekend(data):\n",
    "    '''0 - Выходной, 1 - Будни'''\n",
    "    wd = data.weekday()\n",
    "    if wd == 5 or wd == 6:\n",
    "        k=0\n",
    "    else:\n",
    "        k=1\n",
    "    return k\n",
    "\n",
    "def week_day(data):\n",
    "    '''Возвращает день недели'''\n",
    "    wd = data.weekday()\n",
    "    return wd\n",
    "\n",
    "def week_day_class(data):\n",
    "    '''Возвращает 0 если отрицательных исходов больше чем положительных, и 1 в противном случае'''\n",
    "    k=0\n",
    "    wd = data.weekday()\n",
    "    if wd == 3 or wd == 4:\n",
    "        k=0\n",
    "    else:\n",
    "        k=1\n",
    "    return(k)\n",
    "\n",
    "# распределение количества положительных и отрицательных исходов в зависимости от дня недели (0 - ПН, 6 - ВС)\n",
    "\n",
    "filter = df['Target']==1\n",
    "ts1['week_day'] =pd.DataFrame( df.where(filter).dropna()['Time'].apply(week_day))\n",
    "\n",
    "filter = df['Target']==0\n",
    "ts0['week_day'] =pd.DataFrame( df.where(filter).dropna()['Time'].apply(week_day))\n",
    "\n",
    "\n",
    "count1 = ts1['week_day'].value_counts().sort_index()\n",
    "count0 = ts0['week_day'].value_counts().sort_index()\n",
    "\n",
    "freq = pd.DataFrame({'week_day':count1.index, 'amount1':count1.values, 'amount0':count0.values, 'p':count1.values/(count0.values+count1.values)})\n",
    "\n",
    "freq = freq.sort_values('p')\n",
    "freq['rang']=np.array(range(1,8))/7\n",
    "\n",
    "def week_day_rang(data):\n",
    "    '''Возвращает ранг нормированный по максимуму'''\n",
    "    global freq\n",
    "    \n",
    "    \n",
    "    return freq['rang'][data.weekday()]\n",
    "freq"
   ]
  },
  {
   "cell_type": "code",
   "execution_count": 1628,
   "id": "outside-premises",
   "metadata": {},
   "outputs": [
    {
     "data": {
      "image/png": "[encoded data removed]",
      "text/plain": [
       "<Figure size 576x576 with 1 Axes>"
      ]
     },
     "metadata": {},
     "output_type": "display_data"
    }
   ],
   "source": [
    "plt.figure(figsize=(8, 8))\n",
    "plt.bar(freq['week_day'],freq['p']);\n",
    "plt.plot(range(-1,8),[0.5]*9,color = 'r')\n",
    "plt.axis([-0.75,6.75,0.45,0.55]);\n",
    "plt.xticks(range(0,7));"
   ]
  },
  {
   "cell_type": "code",
   "execution_count": 1564,
   "id": "painted-produce",
   "metadata": {},
   "outputs": [
    {
     "data": {
      "text/plain": [
       "Index(['Target', 'Time', 'Call_centre_lvl', 'Age', 'First_contract', 'Gender',\n",
       "       'Problem', 'Region', 'Emotionality'],\n",
       "      dtype='object')"
      ]
     },
     "execution_count": 1564,
     "metadata": {},
     "output_type": "execute_result"
    }
   ],
   "source": [
    "df.columns"
   ]
  },
  {
   "cell_type": "code",
   "execution_count": 1568,
   "id": "wicked-combination",
   "metadata": {},
   "outputs": [
    {
     "data": {
      "text/html": [
       "<div>\n",
       "<style scoped>\n",
       "    .dataframe tbody tr th:only-of-type {\n",
       "        vertical-align: middle;\n",
       "    }\n",
       "\n",
       "    .dataframe tbody tr th {\n",
       "        vertical-align: top;\n",
       "    }\n",
       "\n",
       "    .dataframe thead th {\n",
       "        text-align: right;\n",
       "    }\n",
       "</style>\n",
       "<table border=\"1\" class=\"dataframe\">\n",
       "  <thead>\n",
       "    <tr style=\"text-align: right;\">\n",
       "      <th></th>\n",
       "      <th>Time</th>\n",
       "      <th>Call_centre_lvl</th>\n",
       "      <th>Age</th>\n",
       "      <th>First_contract</th>\n",
       "      <th>Gender</th>\n",
       "      <th>Problem</th>\n",
       "      <th>Region</th>\n",
       "      <th>Emotionality</th>\n",
       "      <th>Week_day</th>\n",
       "    </tr>\n",
       "  </thead>\n",
       "  <tbody>\n",
       "    <tr>\n",
       "      <th>0</th>\n",
       "      <td>0.791667</td>\n",
       "      <td>0.396821</td>\n",
       "      <td>0.769557</td>\n",
       "      <td>0</td>\n",
       "      <td>0</td>\n",
       "      <td>2.0</td>\n",
       "      <td>7.0</td>\n",
       "      <td>0.225755</td>\n",
       "      <td>0.583333</td>\n",
       "    </tr>\n",
       "    <tr>\n",
       "      <th>1</th>\n",
       "      <td>0.958333</td>\n",
       "      <td>0.396821</td>\n",
       "      <td>0.754719</td>\n",
       "      <td>0</td>\n",
       "      <td>0</td>\n",
       "      <td>2.0</td>\n",
       "      <td>9.0</td>\n",
       "      <td>0.214754</td>\n",
       "      <td>0.500000</td>\n",
       "    </tr>\n",
       "    <tr>\n",
       "      <th>2</th>\n",
       "      <td>0.666667</td>\n",
       "      <td>0.396821</td>\n",
       "      <td>0.757050</td>\n",
       "      <td>0</td>\n",
       "      <td>0</td>\n",
       "      <td>2.0</td>\n",
       "      <td>9.0</td>\n",
       "      <td>0.212734</td>\n",
       "      <td>0.291667</td>\n",
       "    </tr>\n",
       "    <tr>\n",
       "      <th>3</th>\n",
       "      <td>0.375000</td>\n",
       "      <td>0.396821</td>\n",
       "      <td>0.752471</td>\n",
       "      <td>0</td>\n",
       "      <td>0</td>\n",
       "      <td>2.0</td>\n",
       "      <td>9.0</td>\n",
       "      <td>0.205210</td>\n",
       "      <td>0.875000</td>\n",
       "    </tr>\n",
       "    <tr>\n",
       "      <th>4</th>\n",
       "      <td>0.666667</td>\n",
       "      <td>0.396821</td>\n",
       "      <td>0.760621</td>\n",
       "      <td>0</td>\n",
       "      <td>0</td>\n",
       "      <td>2.0</td>\n",
       "      <td>9.0</td>\n",
       "      <td>0.207274</td>\n",
       "      <td>0.583333</td>\n",
       "    </tr>\n",
       "  </tbody>\n",
       "</table>\n",
       "</div>"
      ],
      "text/plain": [
       "       Time  Call_centre_lvl       Age  First_contract  Gender  Problem  \\\n",
       "0  0.791667         0.396821  0.769557               0       0      2.0   \n",
       "1  0.958333         0.396821  0.754719               0       0      2.0   \n",
       "2  0.666667         0.396821  0.757050               0       0      2.0   \n",
       "3  0.375000         0.396821  0.752471               0       0      2.0   \n",
       "4  0.666667         0.396821  0.760621               0       0      2.0   \n",
       "\n",
       "   Region  Emotionality  Week_day  \n",
       "0     7.0      0.225755  0.583333  \n",
       "1     9.0      0.214754  0.500000  \n",
       "2     9.0      0.212734  0.291667  \n",
       "3     9.0      0.205210  0.875000  \n",
       "4     9.0      0.207274  0.583333  "
      ]
     },
     "execution_count": 1568,
     "metadata": {},
     "output_type": "execute_result"
    }
   ],
   "source": [
    "col=[ 'Time', 'Call_centre_lvl', 'Age', 'First_contract', 'Gender',\n",
    "       'Problem', 'Region', 'Emotionality']\n",
    "\n",
    "X=pd.DataFrame()\n",
    "for i in col:\n",
    "    if df[i].dtype.name != 'object':\n",
    "        X[i]=df[i].copy()\n",
    "        X.loc[X[i].isna(), i]=X[i].median()\n",
    "    else:\n",
    "        X[i]=pd.factorize(df[i])[0]\n",
    "Y=df['Target']\n",
    "X['Time'] = pd.DataFrame( df['Time'].apply(p_class))\n",
    "col.append('Week_day')\n",
    "X['Week_day'] = pd.DataFrame( df['Time'].apply(week_day_rang))\n",
    "X.head() "
   ]
  },
  {
   "cell_type": "code",
   "execution_count": 1569,
   "id": "wrong-beauty",
   "metadata": {},
   "outputs": [
    {
     "data": {
      "text/plain": [
       "Time                 24\n",
       "Call_centre_lvl      43\n",
       "Age                6758\n",
       "First_contract        3\n",
       "Gender                2\n",
       "Problem              11\n",
       "Region               52\n",
       "Emotionality       4817\n",
       "Week_day              7\n",
       "dtype: int64"
      ]
     },
     "execution_count": 1569,
     "metadata": {},
     "output_type": "execute_result"
    }
   ],
   "source": [
    "X.nunique()"
   ]
  },
  {
   "cell_type": "code",
   "execution_count": 1629,
   "id": "functional-behalf",
   "metadata": {},
   "outputs": [],
   "source": [
    "X_train, X_test, y_train, y_test = train_test_split(X, Y, test_size=0.2, random_state=38)"
   ]
  },
  {
   "cell_type": "code",
   "execution_count": 1678,
   "id": "recreational-iceland",
   "metadata": {},
   "outputs": [
    {
     "data": {
      "text/plain": [
       "RandomForestClassifier(n_estimators=259)"
      ]
     },
     "execution_count": 1678,
     "metadata": {},
     "output_type": "execute_result"
    }
   ],
   "source": [
    "model = RandomForestClassifier(n_estimators=259)\n",
    "model.fit(X_train, y_train)"
   ]
  },
  {
   "cell_type": "code",
   "execution_count": 1679,
   "id": "fallen-february",
   "metadata": {},
   "outputs": [
    {
     "name": "stdout",
     "output_type": "stream",
     "text": [
      "Значимость признака:\n"
     ]
    },
    {
     "data": {
      "text/plain": [
       "[[0.2414, 'Age'],\n",
       " [0.2013, 'Call_centre_lvl'],\n",
       " [0.1595, 'Region'],\n",
       " [0.142, 'Emotionality'],\n",
       " [0.0994, 'Time'],\n",
       " [0.0617, 'Week_day'],\n",
       " [0.0558, 'Problem'],\n",
       " [0.0282, 'Gender'],\n",
       " [0.0107, 'First_contract']]"
      ]
     },
     "execution_count": 1679,
     "metadata": {},
     "output_type": "execute_result"
    }
   ],
   "source": [
    "importances = model.feature_importances_\n",
    "indices = np.argsort(importances)[::-1]\n",
    "\n",
    "ar_f=[]\n",
    "for idx in indices:\n",
    "    \n",
    "    ar_f.append([round(importances[idx],4), col[idx]])\n",
    "print(\"Значимость признака:\")\n",
    "ar_f.sort(reverse=True)\n",
    "ar_f"
   ]
  },
  {
   "cell_type": "code",
   "execution_count": 1680,
   "id": "mysterious-graduate",
   "metadata": {},
   "outputs": [
    {
     "data": {
      "image/png": "[encoded data removed]",
      "text/plain": [
       "<Figure size 576x576 with 1 Axes>"
      ]
     },
     "metadata": {},
     "output_type": "display_data"
    }
   ],
   "source": [
    "d_first = len(col)\n",
    "plt.figure(figsize=(8, 8))\n",
    "plt.title(\"Значимость признака\")\n",
    "plt.bar(range(d_first), importances[indices], align='center')\n",
    "plt.xticks(range(d_first), np.array(col)[indices[:d_first]], rotation=90)\n",
    "plt.xlim([-1, d_first]);"
   ]
  },
  {
   "cell_type": "code",
   "execution_count": 1681,
   "id": "uniform-wildlife",
   "metadata": {},
   "outputs": [
    {
     "data": {
      "text/plain": [
       "0.3523837269081811"
      ]
     },
     "execution_count": 1681,
     "metadata": {},
     "output_type": "execute_result"
    }
   ],
   "source": [
    "pred = model.predict(X_test)\n",
    "r2_score(pred, y_test)\n"
   ]
  },
  {
   "cell_type": "code",
   "execution_count": 1682,
   "id": "limited-sapphire",
   "metadata": {},
   "outputs": [
    {
     "data": {
      "image/png": "[encoded data removed]",
      "text/plain": [
       "<Figure size 1152x504 with 2 Axes>"
      ]
     },
     "metadata": {},
     "output_type": "display_data"
    }
   ],
   "source": [
    "matrix = confusion_matrix(y_test, model.predict(X_test))\n",
    "matrix = matrix.astype('float') / matrix.sum(axis=1)[:, np.newaxis]\n",
    "\n",
    "plt.figure(figsize=(16,7))\n",
    "\n",
    "sns.heatmap(matrix,annot=True, annot_kws={'size':12},  cmap=plt.cm.Blues)\n",
    "\n",
    "class_names = ['0', '1']                 \n",
    "plt.title(\"Accuracy:\"+ str(accuracy_score(y_test,pred)))\n",
    "plt.xlabel('Предсказанные классы')\n",
    "plt.ylabel('Истинные классы');"
   ]
  },
  {
   "cell_type": "code",
   "execution_count": 1642,
   "id": "conceptual-breakfast",
   "metadata": {},
   "outputs": [
    {
     "name": "stdout",
     "output_type": "stream",
     "text": [
      "150 -- 0.841374269005848\n",
      "159 -- 0.841374269005848\n",
      "171 -- 0.8406432748538012\n",
      "184 -- 0.8406432748538012\n"
     ]
    },
    {
     "data": {
      "text/plain": [
       "[<matplotlib.lines.Line2D at 0x1eda3f10e48>]"
      ]
     },
     "execution_count": 1642,
     "metadata": {},
     "output_type": "execute_result"
    },
    {
     "data": {
      "image/png": "[encoded data removed]",
      "text/plain": [
       "<Figure size 432x288 with 1 Axes>"
      ]
     },
     "metadata": {},
     "output_type": "display_data"
    }
   ],
   "source": [
    "# x=[]\n",
    "# y=[]\n",
    "# k=0\n",
    "# for i in range(10,301,1):\n",
    "#     model = RandomForestClassifier(n_estimators=i)\n",
    "#     model.fit(X_train, y_train)\n",
    "#     x.append(i)\n",
    "#     y.append(accuracy_score(y_test, model.predict(X_test)))\n",
    "#     if y[k]>=0.84:\n",
    "#         print(i,'--',y[k])\n",
    "#     k+=1\n",
    "# plt.plot(x,y)\n",
    "\n",
    "\n",
    "\n",
    "# 238 -- 0.8442982456140351\n",
    "\n",
    "# 259 -- 0.8442982456140351\n",
    "\n",
    "# 204 -- 0.8455165692007798\n",
    "# 216 -- 0.8455165692007798\n"
   ]
  },
  {
   "cell_type": "code",
   "execution_count": null,
   "id": "polished-generation",
   "metadata": {},
   "outputs": [],
   "source": []
  }
 ],
 "metadata": {
  "kernelspec": {
   "display_name": "Python 3",
   "language": "python",
   "name": "python3"
  },
  "language_info": {
   "codemirror_mode": {
    "name": "ipython",
    "version": 3
   },
   "file_extension": ".py",
   "mimetype": "text/x-python",
   "name": "python",
   "nbconvert_exporter": "python",
   "pygments_lexer": "ipython3",
   "version": "3.7.4"
  },
  "latex_envs": {
   "LaTeX_envs_menu_present": true,
   "autoclose": true,
   "autocomplete": true,
   "bibliofile": "biblio.bib",
   "cite_by": "apalike",
   "current_citInitial": 1,
   "eqLabelWithNumbers": true,
   "eqNumInitial": 1,
   "hotkeys": {
    "equation": "Ctrl-E",
    "itemize": "Ctrl-I"
   },
   "labels_anchors": false,
   "latex_user_defs": false,
   "report_style_numbering": false,
   "user_envs_cfg": false
  }
 },
 "nbformat": 4,
 "nbformat_minor": 5
}
